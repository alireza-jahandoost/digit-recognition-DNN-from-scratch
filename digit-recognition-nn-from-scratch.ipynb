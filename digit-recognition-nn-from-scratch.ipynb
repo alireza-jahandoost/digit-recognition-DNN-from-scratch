{
 "cells": [
  {
   "cell_type": "code",
   "execution_count": 2,
   "metadata": {
    "executionInfo": {
     "elapsed": 576,
     "status": "ok",
     "timestamp": 1670781794392,
     "user": {
      "displayName": "Alireza Jahandoost",
      "userId": "11107440202231659741"
     },
     "user_tz": -210
    },
    "id": "ygY67cOCFx7L"
   },
   "outputs": [],
   "source": [
    "import numpy as np\n",
    "import matplotlib.pyplot as plt"
   ]
  },
  {
   "cell_type": "code",
   "execution_count": 3,
   "metadata": {
    "executionInfo": {
     "elapsed": 5304,
     "status": "ok",
     "timestamp": 1670781800168,
     "user": {
      "displayName": "Alireza Jahandoost",
      "userId": "11107440202231659741"
     },
     "user_tz": -210
    },
    "id": "gi53nVukGCSb"
   },
   "outputs": [],
   "source": [
    "def convert(imgs, labels, cnt):\n",
    "    imgf = open(imgs, \"rb\")\n",
    "    labelf = open(labels, \"rb\")\n",
    "    \n",
    "    imgf.read(16)\n",
    "    labelf.read(8)\n",
    "    images = []\n",
    "    \n",
    "    for i in range(cnt):\n",
    "        image = [ord(labelf.read(1))]\n",
    "        for j in range(28*28):\n",
    "            image.append(ord(imgf.read(1)))\n",
    "        images.append(image);\n",
    "    \n",
    "    images = np.array(images)\n",
    "    \n",
    "    inputs = images[:, 1:]\n",
    "    outputs = images[:, 0]\n",
    "    return (inputs, outputs)\n",
    "\n",
    "def get_mnist():\n",
    "    mnist_train_x = \"train-images.ubyte\"\n",
    "    mnist_train_y = \"train-labels.ubyte\"\n",
    "    mnist_test_x = \"test-images.ubyte\"\n",
    "    mnist_test_y = \"test-labels.ubyte\"\n",
    "    train_data = convert(mnist_train_x, mnist_train_y, 60000)\n",
    "    test_data = convert(mnist_test_x, mnist_test_y, 10000)\n",
    "    return train_data, test_data\n",
    "    "
   ]
  },
  {
   "cell_type": "code",
   "execution_count": 4,
   "metadata": {
    "executionInfo": {
     "elapsed": 5304,
     "status": "ok",
     "timestamp": 1670781800168,
     "user": {
      "displayName": "Alireza Jahandoost",
      "userId": "11107440202231659741"
     },
     "user_tz": -210
    },
    "id": "gi53nVukGCSb"
   },
   "outputs": [],
   "source": [
    "train_data, test_data = get_mnist()"
   ]
  },
  {
   "cell_type": "code",
   "execution_count": 5,
   "metadata": {},
   "outputs": [],
   "source": [
    "(x_train, y_train) = train_data\n",
    "(x_test, y_test) = test_data"
   ]
  },
  {
   "cell_type": "code",
   "execution_count": 6,
   "metadata": {
    "colab": {
     "base_uri": "https://localhost:8080/"
    },
    "executionInfo": {
     "elapsed": 27,
     "status": "ok",
     "timestamp": 1670781800168,
     "user": {
      "displayName": "Alireza Jahandoost",
      "userId": "11107440202231659741"
     },
     "user_tz": -210
    },
    "id": "OHakduoMGWki",
    "outputId": "f87b976f-ab6e-4aa7-8d44-8fbaa81823d9"
   },
   "outputs": [
    {
     "data": {
      "text/plain": [
       "((60000, 784), (60000,), (10000, 784), (10000,))"
      ]
     },
     "execution_count": 6,
     "metadata": {},
     "output_type": "execute_result"
    }
   ],
   "source": [
    "x_train.shape, y_train.shape, x_test.shape, y_test.shape"
   ]
  },
  {
   "cell_type": "code",
   "execution_count": 7,
   "metadata": {
    "colab": {
     "base_uri": "https://localhost:8080/"
    },
    "executionInfo": {
     "elapsed": 23,
     "status": "ok",
     "timestamp": 1670781800169,
     "user": {
      "displayName": "Alireza Jahandoost",
      "userId": "11107440202231659741"
     },
     "user_tz": -210
    },
    "id": "eb_yTDb7GjP8",
    "outputId": "36506a3d-5973-4bb6-e0b2-caf70d1e7f3f"
   },
   "outputs": [
    {
     "data": {
      "text/plain": [
       "(numpy.ndarray, numpy.ndarray, numpy.ndarray, numpy.ndarray)"
      ]
     },
     "execution_count": 7,
     "metadata": {},
     "output_type": "execute_result"
    }
   ],
   "source": [
    "type(x_train), type(y_train), type(x_test), type(y_test)"
   ]
  },
  {
   "cell_type": "code",
   "execution_count": 8,
   "metadata": {
    "colab": {
     "base_uri": "https://localhost:8080/"
    },
    "executionInfo": {
     "elapsed": 15,
     "status": "ok",
     "timestamp": 1670781800169,
     "user": {
      "displayName": "Alireza Jahandoost",
      "userId": "11107440202231659741"
     },
     "user_tz": -210
    },
    "id": "7DmoQHo7GpSj",
    "outputId": "8ca38d71-b41e-4130-800a-f250112130f4",
    "scrolled": true
   },
   "outputs": [
    {
     "data": {
      "text/plain": [
       "array([[0, 0, 0, ..., 0, 0, 0],\n",
       "       [0, 0, 0, ..., 0, 0, 0],\n",
       "       [0, 0, 0, ..., 0, 0, 0],\n",
       "       [0, 0, 0, ..., 0, 0, 0],\n",
       "       [0, 0, 0, ..., 0, 0, 0]])"
      ]
     },
     "execution_count": 8,
     "metadata": {},
     "output_type": "execute_result"
    }
   ],
   "source": [
    "x_train[:5]"
   ]
  },
  {
   "cell_type": "code",
   "execution_count": 9,
   "metadata": {
    "colab": {
     "base_uri": "https://localhost:8080/"
    },
    "executionInfo": {
     "elapsed": 13,
     "status": "ok",
     "timestamp": 1670781800170,
     "user": {
      "displayName": "Alireza Jahandoost",
      "userId": "11107440202231659741"
     },
     "user_tz": -210
    },
    "id": "-0jBzU56Groj",
    "outputId": "3f29b097-e39d-44bd-f07f-d146d23957cf"
   },
   "outputs": [
    {
     "data": {
      "text/plain": [
       "array([5, 0, 4, 1, 9])"
      ]
     },
     "execution_count": 9,
     "metadata": {},
     "output_type": "execute_result"
    }
   ],
   "source": [
    "y_train[:5]"
   ]
  },
  {
   "cell_type": "code",
   "execution_count": 10,
   "metadata": {
    "colab": {
     "base_uri": "https://localhost:8080/"
    },
    "executionInfo": {
     "elapsed": 10,
     "status": "ok",
     "timestamp": 1670781800171,
     "user": {
      "displayName": "Alireza Jahandoost",
      "userId": "11107440202231659741"
     },
     "user_tz": -210
    },
    "id": "f68ZAYXqGsf7",
    "outputId": "ff60ab28-dcba-4ea8-bbec-f5d546e3f878"
   },
   "outputs": [
    {
     "data": {
      "text/plain": [
       "((60000, 784), (60000,), (10000, 784), (10000,))"
      ]
     },
     "execution_count": 10,
     "metadata": {},
     "output_type": "execute_result"
    }
   ],
   "source": [
    "x_train.shape, y_train.shape, x_test.shape, y_test.shape"
   ]
  },
  {
   "cell_type": "code",
   "execution_count": 11,
   "metadata": {
    "colab": {
     "base_uri": "https://localhost:8080/",
     "height": 282
    },
    "executionInfo": {
     "elapsed": 613,
     "status": "ok",
     "timestamp": 1670781800776,
     "user": {
      "displayName": "Alireza Jahandoost",
      "userId": "11107440202231659741"
     },
     "user_tz": -210
    },
    "id": "dyiuaZ9CGxL7",
    "outputId": "aacf398c-cd8d-449d-873e-8c55bec03737"
   },
   "outputs": [
    {
     "name": "stdout",
     "output_type": "stream",
     "text": [
      "5\n"
     ]
    },
    {
     "data": {
      "image/png": "[encoded data removed]",
      "text/plain": [
       "<Figure size 640x480 with 1 Axes>"
      ]
     },
     "metadata": {},
     "output_type": "display_data"
    }
   ],
   "source": [
    "plt.imshow(x_train[0].reshape((28, 28)))\n",
    "print(y_train[0])"
   ]
  },
  {
   "cell_type": "code",
   "execution_count": 12,
   "metadata": {
    "executionInfo": {
     "elapsed": 423,
     "status": "ok",
     "timestamp": 1670781801196,
     "user": {
      "displayName": "Alireza Jahandoost",
      "userId": "11107440202231659741"
     },
     "user_tz": -210
    },
    "id": "jdNvZUFAS9sx"
   },
   "outputs": [],
   "source": [
    "# Normalize inputs \n",
    "x_train = x_train / 255\n",
    "x_test = x_test / 255"
   ]
  },
  {
   "cell_type": "code",
   "execution_count": 13,
   "metadata": {
    "colab": {
     "base_uri": "https://localhost:8080/"
    },
    "executionInfo": {
     "elapsed": 21,
     "status": "ok",
     "timestamp": 1670781801199,
     "user": {
      "displayName": "Alireza Jahandoost",
      "userId": "11107440202231659741"
     },
     "user_tz": -210
    },
    "id": "eD26y1NZTGkY",
    "outputId": "1d433c8d-50dc-47c8-8b90-7d8157515279",
    "scrolled": true
   },
   "outputs": [
    {
     "data": {
      "text/plain": [
       "array([[0., 0., 0., 0., 0., 1., 0., 0., 0., 0.],\n",
       "       [1., 0., 0., 0., 0., 0., 0., 0., 0., 0.],\n",
       "       [0., 0., 0., 0., 1., 0., 0., 0., 0., 0.],\n",
       "       [0., 1., 0., 0., 0., 0., 0., 0., 0., 0.],\n",
       "       [0., 0., 0., 0., 0., 0., 0., 0., 0., 1.]])"
      ]
     },
     "execution_count": 13,
     "metadata": {},
     "output_type": "execute_result"
    }
   ],
   "source": [
    "# One Hot Encode outputs\n",
    "def OHE(y):\n",
    "    one_hot = np.zeros((len(y), 10))\n",
    "    one_hot[np.arange(len(y)), y] = 1\n",
    "    return one_hot\n",
    "\n",
    "y_train = OHE(y_train)\n",
    "y_test = OHE(y_test)\n",
    "y_train[:5]"
   ]
  },
  {
   "cell_type": "code",
   "execution_count": 31,
   "metadata": {
    "executionInfo": {
     "elapsed": 17,
     "status": "ok",
     "timestamp": 1670781801200,
     "user": {
      "displayName": "Alireza Jahandoost",
      "userId": "11107440202231659741"
     },
     "user_tz": -210
    },
    "id": "wA_NvODEHW1a"
   },
   "outputs": [],
   "source": [
    "class DNN:\n",
    "    def __init__(self, sizes, epochs=10, lr=0.001):\n",
    "        self.sizes = sizes\n",
    "        self.epochs = epochs\n",
    "        self.lr = lr\n",
    "        self.number_of_layers = len(sizes)\n",
    "        \n",
    "        self.params = {}\n",
    "        \n",
    "        for l in range(1, self.number_of_layers):\n",
    "            self.params['W' + str(l)] = np.random.randn(sizes[l], sizes[l-1]) * np.sqrt(2/sizes[l-1])\n",
    "            self.params['b' + str(l)] = np.zeros((sizes[l], 1))\n",
    "\n",
    "    def relu(self, x, derivative = False):\n",
    "        if derivative:\n",
    "            return x > 0\n",
    "        return np.maximum(x, 0)\n",
    "\n",
    "    def softmax(self, x, derivative = False):\n",
    "        exps = np.exp(x)\n",
    "\n",
    "        if derivative:\n",
    "            return exps / np.sum(exps, axis=0) * (1 - exps / np.sum(exps, axis=0))\n",
    "        return exps / np.sum(exps, axis=0)\n",
    "  \n",
    "    def forward_pass(self, x_train):\n",
    "        params = self.params\n",
    "\n",
    "        params['A0'] = x_train.T # 784 x 60000\n",
    "        assert(params['A0'].shape == (784, x_train.shape[0]))\n",
    "        \n",
    "        m = params['A0'].shape[1]\n",
    "        \n",
    "        for l in range(1, self.number_of_layers - 1):\n",
    "            params['Z' + str(l)] = np.matmul(params['W' + str(l)], params['A' + str(l-1)]) + params['b' + str(l)]\n",
    "            params['A' + str(l)] = self.relu(params['Z' + str(l)])\n",
    "\n",
    "\n",
    "        #hidden layers to output_layer\n",
    "        params['Z' + str(self.number_of_layers - 1)] = np.matmul(params['W' + str(self.number_of_layers - 1)], \n",
    "                                                                 params['A' + str(self.number_of_layers - 2)]) + params['b' + str(self.number_of_layers - 1)]\n",
    "        params['A' + str(self.number_of_layers - 1)] = self.softmax(params['Z' + str(self.number_of_layers - 1)])\n",
    "\n",
    "        return params['A' + str(self.number_of_layers - 1)]\n",
    "\n",
    "    def backward_pass(self, y_train, output):\n",
    "        params = self.params\n",
    "\n",
    "        changes = {}\n",
    "        \n",
    "        m = output.shape[1]\n",
    "        \n",
    "        changes['Z' + str(self.number_of_layers - 1)] = (output - y_train.T)\n",
    "        changes['W' + str(self.number_of_layers - 1)] = 1 / m * np.matmul(changes['Z' + str(self.number_of_layers - 1)], \n",
    "                                                                          params['A' + str(self.number_of_layers - 2)].T)\n",
    "        changes['b' + str(self.number_of_layers - 1)] = 1 / m * np.sum(changes['Z' + str(self.number_of_layers - 1)], axis=1, keepdims=True)\n",
    "        \n",
    "        for l in reversed(range(1, self.number_of_layers - 1)):\n",
    "            changes['Z' + str(l)] = np.dot(params['W' + str(l+1)].T, changes['Z' + str(l+1)]) * self.relu(params['Z' + str(l)],derivative=True)\n",
    "            changes['W' + str(l)] = 1 / m * np.matmul(changes['Z' + str(l)], params['A' + str(l-1)].T)\n",
    "            changes['b' + str(l)] = 1 / m * np.sum(changes['Z' + str(l)], axis=1, keepdims=True)\n",
    "\n",
    "        return changes\n",
    "\n",
    "    def update_weights(self, changes):\n",
    "        for key, value in changes.items():\n",
    "            self.params[key] -= self.lr * value  # W_t + 1 = W_t - lr * Delta_W_t\n",
    "\n",
    "    def compute_accuracy(self, x_test, y_test):\n",
    "        output = self.forward_pass(x_test)\n",
    "        pred = np.argmax(output, axis=0)\n",
    "\n",
    "        return np.mean(pred == y_test.argmax(axis=1))\n",
    "\n",
    "    def train(self, x_train, x_test, y_train, y_test):\n",
    "        for i in range(self.epochs):\n",
    "            output = self.forward_pass(x_train)\n",
    "            changes = self.backward_pass(y_train, output)\n",
    "            self.update_weights(changes)\n",
    "            if i % 20 == 0:\n",
    "                training_accuracy = self.compute_accuracy(x_train, y_train)\n",
    "                test_accuracy = self.compute_accuracy(x_test, y_test)\n",
    "                print('epoch: {0}, training accuracy: {1:.2f}%, test accuracy: {2:.2f}%'.format(i+1, \n",
    "                                                                                                training_accuracy*100, \n",
    "                                                                                                test_accuracy*100))\n",
    "        \n",
    "        training_accuracy = self.compute_accuracy(x_train, y_train)\n",
    "        test_accuracy = self.compute_accuracy(x_test, y_test)\n",
    "        print('epoch: {0}, training accuracy: {1:.2f}%, test accuracy: {2:.2f}%'.format(i+1, \n",
    "                                                                                        training_accuracy*100, \n",
    "                                                                                        test_accuracy*100))\n",
    "\n",
    "    \n",
    "      "
   ]
  },
  {
   "cell_type": "code",
   "execution_count": 32,
   "metadata": {},
   "outputs": [
    {
     "data": {
      "text/plain": [
       "((10000, 784), (60000, 784), (60000, 10))"
      ]
     },
     "execution_count": 32,
     "metadata": {},
     "output_type": "execute_result"
    }
   ],
   "source": [
    "x_test.shape, x_train.shape, y_train.shape"
   ]
  },
  {
   "cell_type": "code",
   "execution_count": 48,
   "metadata": {
    "colab": {
     "base_uri": "https://localhost:8080/"
    },
    "id": "JF7_H8uWIUp9",
    "outputId": "5f5fd82e-82c2-4aa1-ab7c-79e96921fe0a"
   },
   "outputs": [
    {
     "name": "stdout",
     "output_type": "stream",
     "text": [
      "epoch: 1, training accuracy: 11.39%, test accuracy: 11.54%\n",
      "epoch: 21, training accuracy: 75.20%, test accuracy: 75.42%\n",
      "epoch: 41, training accuracy: 84.62%, test accuracy: 85.13%\n",
      "epoch: 61, training accuracy: 87.30%, test accuracy: 88.18%\n",
      "epoch: 81, training accuracy: 88.66%, test accuracy: 89.40%\n",
      "epoch: 101, training accuracy: 89.51%, test accuracy: 90.17%\n",
      "epoch: 121, training accuracy: 90.10%, test accuracy: 90.73%\n",
      "epoch: 141, training accuracy: 90.61%, test accuracy: 91.20%\n",
      "epoch: 161, training accuracy: 91.02%, test accuracy: 91.57%\n",
      "epoch: 181, training accuracy: 91.33%, test accuracy: 91.88%\n",
      "epoch: 201, training accuracy: 91.62%, test accuracy: 92.18%\n",
      "epoch: 221, training accuracy: 91.88%, test accuracy: 92.36%\n",
      "epoch: 241, training accuracy: 92.12%, test accuracy: 92.55%\n",
      "epoch: 261, training accuracy: 92.35%, test accuracy: 92.73%\n",
      "epoch: 281, training accuracy: 92.55%, test accuracy: 92.90%\n",
      "epoch: 300, training accuracy: 92.71%, test accuracy: 93.07%\n"
     ]
    }
   ],
   "source": [
    "dnn = DNN(sizes=[784, 128, 64, 10], epochs=300, lr=0.1)\n",
    "dnn.train(x_train, x_test, y_train, y_test)"
   ]
  },
  {
   "cell_type": "code",
   "execution_count": 51,
   "metadata": {},
   "outputs": [
    {
     "name": "stdout",
     "output_type": "stream",
     "text": [
      "epoch: 1, training accuracy: 16.00%, test accuracy: 15.70%\n",
      "epoch: 21, training accuracy: 82.49%, test accuracy: 82.93%\n",
      "epoch: 41, training accuracy: 86.39%, test accuracy: 86.99%\n",
      "epoch: 61, training accuracy: 88.73%, test accuracy: 88.97%\n",
      "epoch: 81, training accuracy: 89.85%, test accuracy: 90.17%\n",
      "epoch: 101, training accuracy: 90.48%, test accuracy: 90.84%\n",
      "epoch: 121, training accuracy: 91.00%, test accuracy: 91.32%\n",
      "epoch: 141, training accuracy: 91.48%, test accuracy: 91.72%\n",
      "epoch: 161, training accuracy: 91.84%, test accuracy: 92.01%\n",
      "epoch: 181, training accuracy: 92.17%, test accuracy: 92.33%\n",
      "epoch: 201, training accuracy: 92.48%, test accuracy: 92.57%\n",
      "epoch: 221, training accuracy: 92.72%, test accuracy: 92.73%\n",
      "epoch: 241, training accuracy: 92.99%, test accuracy: 92.96%\n",
      "epoch: 261, training accuracy: 93.21%, test accuracy: 93.13%\n",
      "epoch: 281, training accuracy: 93.44%, test accuracy: 93.31%\n",
      "epoch: 300, training accuracy: 93.60%, test accuracy: 93.50%\n"
     ]
    }
   ],
   "source": [
    "dnn = DNN(sizes=[784, 128, 64, 10], epochs=300, lr=0.13)\n",
    "dnn.train(x_train, x_test, y_train, y_test)"
   ]
  },
  {
   "cell_type": "code",
   "execution_count": 54,
   "metadata": {},
   "outputs": [
    {
     "name": "stdout",
     "output_type": "stream",
     "text": [
      "epoch: 1, training accuracy: 17.50%, test accuracy: 17.04%\n",
      "epoch: 21, training accuracy: 82.36%, test accuracy: 83.24%\n",
      "epoch: 41, training accuracy: 87.03%, test accuracy: 87.82%\n",
      "epoch: 61, training accuracy: 89.10%, test accuracy: 89.48%\n",
      "epoch: 81, training accuracy: 90.02%, test accuracy: 90.33%\n",
      "epoch: 101, training accuracy: 90.67%, test accuracy: 90.98%\n",
      "epoch: 121, training accuracy: 91.20%, test accuracy: 91.51%\n",
      "epoch: 141, training accuracy: 91.58%, test accuracy: 91.92%\n",
      "epoch: 161, training accuracy: 91.97%, test accuracy: 92.33%\n",
      "epoch: 181, training accuracy: 92.30%, test accuracy: 92.53%\n",
      "epoch: 201, training accuracy: 92.60%, test accuracy: 92.80%\n",
      "epoch: 221, training accuracy: 92.83%, test accuracy: 93.09%\n",
      "epoch: 241, training accuracy: 93.11%, test accuracy: 93.35%\n",
      "epoch: 261, training accuracy: 93.30%, test accuracy: 93.53%\n",
      "epoch: 281, training accuracy: 93.51%, test accuracy: 93.70%\n",
      "epoch: 300, training accuracy: 93.70%, test accuracy: 93.79%\n"
     ]
    }
   ],
   "source": [
    "dnn = DNN(sizes=[784, 128, 64, 10], epochs=300, lr=0.14)\n",
    "dnn.train(x_train, x_test, y_train, y_test)"
   ]
  },
  {
   "cell_type": "code",
   "execution_count": 55,
   "metadata": {},
   "outputs": [
    {
     "name": "stdout",
     "output_type": "stream",
     "text": [
      "epoch: 1, training accuracy: 26.16%, test accuracy: 26.07%\n",
      "epoch: 21, training accuracy: 81.64%, test accuracy: 82.28%\n",
      "epoch: 41, training accuracy: 86.18%, test accuracy: 86.68%\n",
      "epoch: 61, training accuracy: 88.62%, test accuracy: 89.43%\n",
      "epoch: 81, training accuracy: 89.71%, test accuracy: 90.28%\n",
      "epoch: 101, training accuracy: 90.20%, test accuracy: 90.76%\n",
      "epoch: 121, training accuracy: 91.15%, test accuracy: 91.53%\n",
      "epoch: 141, training accuracy: 91.64%, test accuracy: 91.92%\n",
      "epoch: 161, training accuracy: 92.03%, test accuracy: 92.28%\n",
      "epoch: 181, training accuracy: 92.38%, test accuracy: 92.57%\n",
      "epoch: 201, training accuracy: 92.71%, test accuracy: 92.80%\n",
      "epoch: 221, training accuracy: 92.98%, test accuracy: 93.08%\n",
      "epoch: 241, training accuracy: 93.23%, test accuracy: 93.21%\n",
      "epoch: 261, training accuracy: 93.45%, test accuracy: 93.40%\n",
      "epoch: 281, training accuracy: 93.62%, test accuracy: 93.62%\n",
      "epoch: 300, training accuracy: 93.81%, test accuracy: 93.76%\n"
     ]
    }
   ],
   "source": [
    "dnn = DNN(sizes=[784, 128, 64, 10], epochs=300, lr=0.15)\n",
    "dnn.train(x_train, x_test, y_train, y_test)"
   ]
  },
  {
   "cell_type": "code",
   "execution_count": 56,
   "metadata": {
    "id": "pPYlwMLyVO80"
   },
   "outputs": [
    {
     "data": {
      "image/png": "[encoded data removed]",
      "text/plain": [
       "<Figure size 1000x700 with 10 Axes>"
      ]
     },
     "metadata": {},
     "output_type": "display_data"
    }
   ],
   "source": [
    "fig, axs = plt.subplots(2, 5, figsize=(10,7))\n",
    "for i in range(10,20):\n",
    "    idx = i - 10\n",
    "    axs[idx//5, idx%5].imshow(x_test[i].reshape(28, 28))\n",
    "    axs[idx//5, idx%5].set_title(\"label: {0} \\n predict: {1}\".format(y_test[i].argmax(), dnn.forward_pass(x_test[i].reshape((1, -1))).argmax()))"
   ]
  },
  {
   "cell_type": "code",
   "execution_count": 57,
   "metadata": {},
   "outputs": [
    {
     "data": {
      "image/png": "[encoded data removed]",
      "text/plain": [
       "<Figure size 1000x700 with 10 Axes>"
      ]
     },
     "metadata": {},
     "output_type": "display_data"
    }
   ],
   "source": [
    "errors = []\n",
    "for i in range(1000):\n",
    "    if y_test[i].argmax() != dnn.forward_pass(x_test[i].reshape(1, -1)).argmax():\n",
    "        errors.append(i)\n",
    "        if len(errors) == 10:\n",
    "            break\n",
    "\n",
    "fig, axs = plt.subplots(2, 5, figsize=(10,7))\n",
    "idx = 0\n",
    "for i in errors:\n",
    "    axs[idx//5, idx%5].imshow(x_test[i].reshape(28, 28))\n",
    "    axs[idx//5, idx%5].set_title(\"label: {0} \\n predict: {1}\".format(y_test[i].argmax(), dnn.forward_pass(x_test[i].reshape(1, -1)).argmax()))\n",
    "    idx = idx + 1"
   ]
  },
  {
   "cell_type": "code",
   "execution_count": null,
   "metadata": {},
   "outputs": [],
   "source": []
  }
 ],
 "metadata": {
  "colab": {
   "authorship_tag": "ABX9TyOTVSm9RmUR7kucJjIcaKSC",
   "provenance": []
  },
  "kernelspec": {
   "display_name": "Python 3 (ipykernel)",
   "language": "python",
   "name": "python3"
  },
  "language_info": {
   "codemirror_mode": {
    "name": "ipython",
    "version": 3
   },
   "file_extension": ".py",
   "mimetype": "text/x-python",
   "name": "python",
   "nbconvert_exporter": "python",
   "pygments_lexer": "ipython3",
   "version": "3.9.13"
  }
 },
 "nbformat": 4,
 "nbformat_minor": 1
}
